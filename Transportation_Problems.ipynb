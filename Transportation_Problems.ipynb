{
 "cells": [
  {
   "cell_type": "markdown",
   "id": "a04616c7-1770-410d-a285-8b8a3a314217",
   "metadata": {},
   "source": [
    "## Concrete Model\n",
    "### Transportation Problem"
   ]
  },
  {
   "cell_type": "code",
   "execution_count": 40,
   "id": "65cae6c4-9308-407f-a1e9-9a29b5fb20cb",
   "metadata": {},
   "outputs": [
    {
     "name": "stdout",
     "output_type": "stream",
     "text": [
      "Optimal solution:\n",
      "x[1,1] = 3500.0\n",
      "x[1,2] = 1500.0\n",
      "x[1,3] = 0.0\n",
      "x[1,4] = 0.0\n",
      "x[2,1] = 0.0\n",
      "x[2,2] = 2500.0\n",
      "x[2,3] = 2000.0\n",
      "x[2,4] = 1500.0\n",
      "x[3,1] = 2500.0\n",
      "x[3,2] = 0.0\n",
      "x[3,3] = 0.0\n",
      "x[3,4] = 0.0\n",
      "Total Cost = 39500.00\n"
     ]
    }
   ],
   "source": [
    "import pyomo.environ as pyo\n",
    "\n",
    "# Create a model\n",
    "model = pyo.ConcreteModel()\n",
    "\n",
    "# Define sets\n",
    "nSources = 3\n",
    "nDestinations = 4\n",
    "I = range(1, nSources + 1)      # Sources\n",
    "J = range(1, nDestinations + 1)    # Destinations\n",
    "\n",
    "# Define variables\n",
    "model.x = pyo.Var(I, J, domain=NonNegativeReals)\n",
    "\n",
    "# Define cost matrix c[i][j]  \n",
    "# change cost matrix as per # of sources and destinations.\n",
    "c =  [[3, 2, 7, 6],\n",
    "     [7, 5, 2, 3],\n",
    "     [2, 5, 4, 5]]\n",
    "\n",
    "\n",
    "# Objective function: Minimize total cost\n",
    "model.obj = pyo.Objective(expr=sum(c[i-1][j-1]*model.x[i,j] for i in I for j in J), sense=minimize)\n",
    "\n",
    "# Supply constraints (≤)\n",
    "model.supply1 = pyo.Constraint(expr=sum(model.x[1,j] for j in J) <= 5000)\n",
    "model.supply2 = pyo.Constraint(expr=sum(model.x[2,j] for j in J) <= 6000)\n",
    "model.supply3 = pyo.Constraint(expr=sum(model.x[3,j] for j in J) <= 2500)\n",
    "\n",
    "# Demand constraints (=)\n",
    "model.demand1 = pyo.Constraint(expr=sum(model.x[i,1] for i in I) == 6000)\n",
    "model.demand2 = pyo.Constraint(expr=sum(model.x[i,2] for i in I) == 4000)\n",
    "model.demand3 = pyo.Constraint(expr=sum(model.x[i,3] for i in I) == 2000)\n",
    "model.demand4 = pyo.Constraint(expr=sum(model.x[i,4] for i in I) == 1500)\n",
    "\n",
    "# Solve\n",
    "solver = pyo.SolverFactory('glpk')  \n",
    "solver.solve(model)\n",
    "\n",
    "# Print results\n",
    "print(\"Optimal solution:\")\n",
    "for i in I:\n",
    "    for j in J:\n",
    "        print(f\"x[{i},{j}] = {model.x[i,j].value}\")\n",
    "\n",
    "print(f\"Total Cost = {model.obj.expr():.2f}\")\n"
   ]
  },
  {
   "cell_type": "code",
   "execution_count": null,
   "id": "436e6898-b2e4-4f34-90e8-1980840c8f5b",
   "metadata": {},
   "outputs": [],
   "source": []
  },
  {
   "cell_type": "markdown",
   "id": "a458667e-5a0d-4904-be0e-fb3e98845294",
   "metadata": {},
   "source": [
    "### Capacitated Transportation Problems"
   ]
  },
  {
   "cell_type": "code",
   "execution_count": 42,
   "id": "aa21dbbb-a49e-4e4c-98e3-0a54286b656a",
   "metadata": {},
   "outputs": [
    {
     "name": "stdout",
     "output_type": "stream",
     "text": [
      "Optimal solution:\n",
      "x[1,1] = 2500.0\n",
      "x[1,2] = 2500.0\n",
      "x[1,3] = 0.0\n",
      "x[1,4] = 0.0\n",
      "x[2,1] = 1500.0\n",
      "x[2,2] = 1500.0\n",
      "x[2,3] = 1500.0\n",
      "x[2,4] = 1500.0\n",
      "x[3,1] = 2000.0\n",
      "x[3,2] = 0.0\n",
      "x[3,3] = 500.0\n",
      "x[3,4] = 0.0\n",
      "Total Cost = 44000.00\n"
     ]
    }
   ],
   "source": [
    "import pyomo.environ as pyo\n",
    "\n",
    "# Create a model\n",
    "model = pyo.ConcreteModel()\n",
    "\n",
    "# Define sets\n",
    "nSources = 3\n",
    "nDestinations = 4\n",
    "I = range(1, nSources + 1)      # Sources\n",
    "J = range(1, nDestinations + 1)    # Destinations\n",
    "\n",
    "# Define variables\n",
    "model.x = pyo.Var(I, J, domain=NonNegativeReals)\n",
    "\n",
    "# Define cost matrix c[i][j]  \n",
    "# change cost matrix as per # of sources and destinations.\n",
    "c =  [[3, 2, 7, 6],\n",
    "     [7, 5, 2, 3],\n",
    "     [2, 5, 4, 5]]\n",
    "\n",
    "\n",
    "# Objective function: Minimize total cost\n",
    "model.obj = pyo.Objective(expr=sum(c[i-1][j-1]*model.x[i,j] for i in I for j in J), sense=minimize)\n",
    "\n",
    "# Supply constraints (≤)\n",
    "model.supply1 = pyo.Constraint(expr=sum(model.x[1,j] for j in J) <= 5000)\n",
    "model.supply2 = pyo.Constraint(expr=sum(model.x[2,j] for j in J) <= 6000)\n",
    "model.supply3 = pyo.Constraint(expr=sum(model.x[3,j] for j in J) <= 2500)\n",
    "\n",
    "# Demand constraints (=)\n",
    "model.demand1 = pyo.Constraint(expr=sum(model.x[i,1] for i in I) == 6000)\n",
    "model.demand2 = pyo.Constraint(expr=sum(model.x[i,2] for i in I) == 4000)\n",
    "model.demand3 = pyo.Constraint(expr=sum(model.x[i,3] for i in I) == 2000)\n",
    "model.demand4 = pyo.Constraint(expr=sum(model.x[i,4] for i in I) == 1500)\n",
    "\n",
    "# Capacity constraints (=)\n",
    "model.capacity1 = pyo.Constraint(expr=model.x[1,1] <= 2500)\n",
    "model.capacity2 = pyo.Constraint(expr=model.x[3,3] >= 500)\n",
    "\n",
    "# Solve\n",
    "solver = pyo.SolverFactory('glpk')  \n",
    "solver.solve(model)\n",
    "\n",
    "# Print results\n",
    "print(\"Optimal solution:\")\n",
    "for i in I:\n",
    "    for j in J:\n",
    "        print(f\"x[{i},{j}] = {model.x[i,j].value}\")\n",
    "\n",
    "print(f\"Total Cost = {model.obj.expr():.2f}\")\n"
   ]
  },
  {
   "cell_type": "code",
   "execution_count": null,
   "id": "ba025959-365d-4468-8d8a-9980e3f8030a",
   "metadata": {},
   "outputs": [],
   "source": []
  },
  {
   "cell_type": "markdown",
   "id": "6758a031-3320-4f28-8e93-fe23456b9bcd",
   "metadata": {},
   "source": [
    "## Transshipment Problem"
   ]
  },
  {
   "cell_type": "code",
   "execution_count": null,
   "id": "6315616d-0a7c-4cbb-8e66-ea3621a98c65",
   "metadata": {},
   "outputs": [],
   "source": []
  }
 ],
 "metadata": {
  "kernelspec": {
   "display_name": "Python 3 (ipykernel)",
   "language": "python",
   "name": "python3"
  },
  "language_info": {
   "codemirror_mode": {
    "name": "ipython",
    "version": 3
   },
   "file_extension": ".py",
   "mimetype": "text/x-python",
   "name": "python",
   "nbconvert_exporter": "python",
   "pygments_lexer": "ipython3",
   "version": "3.13.1"
  }
 },
 "nbformat": 4,
 "nbformat_minor": 5
}
