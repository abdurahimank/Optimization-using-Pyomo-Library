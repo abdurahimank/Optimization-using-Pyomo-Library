{
 "cells": [
  {
   "cell_type": "markdown",
   "id": "915c6335-ccb1-448b-b315-a6e65dc7b690",
   "metadata": {},
   "source": [
    "## Transshipment Problem"
   ]
  },
  {
   "cell_type": "code",
   "execution_count": 1,
   "id": "6cac4fc0-85c1-4447-bd8e-3f6fd4dc1fc4",
   "metadata": {},
   "outputs": [
    {
     "name": "stdout",
     "output_type": "stream",
     "text": [
      "Optimal solution:\n",
      "x[1,3] = 550.0\n",
      "x[1,4] = 50.0\n",
      "x[2,3] = 0.0\n",
      "x[2,4] = 100.0\n",
      "x[3,5] = 200.0\n",
      "x[3,6] = 0.0\n",
      "x[3,7] = 350.0\n",
      "x[3,8] = 0.0\n",
      "x[4,5] = 0.0\n",
      "x[4,6] = 150.0\n",
      "x[4,7] = 0.0\n",
      "x[4,8] = 0.0\n",
      "x[2,8] = 300.0\n",
      "x[7,8] = 0.0\n",
      "Total Cost = 4600.00\n"
     ]
    }
   ],
   "source": [
    "from pyomo.environ import *\n",
    "\n",
    "# Create model\n",
    "model = ConcreteModel()\n",
    "\n",
    "# Define sets\n",
    "Nodes = [1, 2, 3, 4, 5, 6, 7, 8]\n",
    "\n",
    "# Define arcs and their costs\n",
    "Arcs = [\n",
    "    (1, 3), (1, 4),\n",
    "    (2, 3), (2, 4),\n",
    "    (3, 5), (3, 6), (3, 7), (3, 8),\n",
    "    (4, 5), (4, 6), (4, 7), (4, 8),\n",
    "    (2, 8),\n",
    "    (7, 8)\n",
    "]\n",
    "\n",
    "Costs = {\n",
    "    (1, 3): 2, (1, 4): 3,\n",
    "    (2, 3): 3, (2, 4): 1,\n",
    "    (3, 5): 2, (3, 6): 6, (3, 7): 3, (3, 8): 6,\n",
    "    (4, 5): 4, (4, 6): 4, (4, 7): 6, (4, 8): 5,\n",
    "    (2, 8): 4,\n",
    "    (7, 8): 1\n",
    "}\n",
    "\n",
    "# Define variables\n",
    "model.x = Var(Arcs, domain=NonNegativeReals)\n",
    "\n",
    "# Objective function\n",
    "model.obj = Objective(expr=sum(Costs[i, j] * model.x[i, j] for (i, j) in Arcs), sense=minimize)\n",
    "\n",
    "# Constraints\n",
    "model.constraints = ConstraintList()\n",
    "\n",
    "# Origin nodes: 1 and 2\n",
    "model.constraints.add(model.x[1, 3] + model.x[1, 4] <= 600)\n",
    "model.constraints.add(model.x[2, 3] + model.x[2, 4] + model.x[2, 8] <= 400)\n",
    "\n",
    "# Transshipment nodes: 3 and 4 (flow in = flow out)\n",
    "model.constraints.add(\n",
    "    -model.x[1, 3] - model.x[2, 3] + model.x[3, 5] + model.x[3, 6] + model.x[3, 7] + model.x[3, 8] == 0\n",
    ")\n",
    "model.constraints.add(\n",
    "    -model.x[1, 4] - model.x[2, 4] + model.x[4, 5] + model.x[4, 6] + model.x[4, 7] + model.x[4, 8] == 0\n",
    ")\n",
    "\n",
    "# Destination nodes\n",
    "model.constraints.add(model.x[3, 5] + model.x[4, 5] == 200)\n",
    "model.constraints.add(model.x[3, 6] + model.x[4, 6] == 150)\n",
    "model.constraints.add(model.x[3, 7] + model.x[4, 7] - model.x[7, 8] == 350)\n",
    "model.constraints.add(model.x[3, 8] + model.x[4, 8] + model.x[2, 8] + model.x[7, 8] == 300)\n",
    "\n",
    "# Solve\n",
    "solver = SolverFactory('glpk')  # or 'cbc' or any installed solver\n",
    "solver.solve(model)\n",
    "\n",
    "# Print results\n",
    "print(\"Optimal solution:\")\n",
    "for (i, j) in Arcs:\n",
    "        print(f\"x[{i},{j}] = {model.x[i,j].value}\")\n",
    "\n",
    "print(f\"Total Cost = {model.obj.expr():.2f}\")"
   ]
  },
  {
   "cell_type": "code",
   "execution_count": null,
   "id": "0de27738-2f18-4c44-b23c-c97548bd0a99",
   "metadata": {},
   "outputs": [],
   "source": []
  }
 ],
 "metadata": {
  "kernelspec": {
   "display_name": "Python 3 (ipykernel)",
   "language": "python",
   "name": "python3"
  },
  "language_info": {
   "codemirror_mode": {
    "name": "ipython",
    "version": 3
   },
   "file_extension": ".py",
   "mimetype": "text/x-python",
   "name": "python",
   "nbconvert_exporter": "python",
   "pygments_lexer": "ipython3",
   "version": "3.13.1"
  }
 },
 "nbformat": 4,
 "nbformat_minor": 5
}
