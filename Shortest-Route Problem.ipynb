{
 "cells": [
  {
   "cell_type": "markdown",
   "id": "58015d69-636c-4c9c-bfe1-af2dcbe9f31c",
   "metadata": {},
   "source": [
    "# Shortest-Route Problem\n",
    "The shortest-route problem finds the shortest route or path between two nodes of a network. Distance, time, and cost are often the criteria used for this model. The shortest-route\n",
    "problem can be expressed as a transshipment problem with one origin and one destination.\n",
    "By shipping one unit from the origin to the destination, the solution will determine the\n",
    "shortest route through the network."
   ]
  },
  {
   "cell_type": "code",
   "execution_count": null,
   "id": "9109426c-25d0-4928-aac1-dacd128d0fb8",
   "metadata": {},
   "outputs": [],
   "source": []
  }
 ],
 "metadata": {
  "kernelspec": {
   "display_name": "Python 3 (ipykernel)",
   "language": "python",
   "name": "python3"
  },
  "language_info": {
   "codemirror_mode": {
    "name": "ipython",
    "version": 3
   },
   "file_extension": ".py",
   "mimetype": "text/x-python",
   "name": "python",
   "nbconvert_exporter": "python",
   "pygments_lexer": "ipython3",
   "version": "3.13.1"
  }
 },
 "nbformat": 4,
 "nbformat_minor": 5
}
