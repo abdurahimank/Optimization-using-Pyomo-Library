{
 "cells": [
  {
   "cell_type": "markdown",
   "id": "afd604c6-5609-444a-847d-e127fd2f4351",
   "metadata": {},
   "source": [
    "## Assignment Problem\n",
    "The assignment problem is a special case of the transportation problem in which all supply and all demand values are 1. We represent each agent as an origin node and each task\n",
    "as a destination node. The assignment model determines the minimum cost or maximum\n",
    "profit assignment of agents to tasks."
   ]
  },
  {
   "cell_type": "code",
   "execution_count": null,
   "id": "0d0991e2-a9e9-44ea-9667-1e5673f78d52",
   "metadata": {},
   "outputs": [],
   "source": []
  }
 ],
 "metadata": {
  "kernelspec": {
   "display_name": "Python 3 (ipykernel)",
   "language": "python",
   "name": "python3"
  },
  "language_info": {
   "codemirror_mode": {
    "name": "ipython",
    "version": 3
   },
   "file_extension": ".py",
   "mimetype": "text/x-python",
   "name": "python",
   "nbconvert_exporter": "python",
   "pygments_lexer": "ipython3",
   "version": "3.13.1"
  }
 },
 "nbformat": 4,
 "nbformat_minor": 5
}
