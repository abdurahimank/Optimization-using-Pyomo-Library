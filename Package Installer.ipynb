{
 "cells": [
  {
   "cell_type": "code",
   "execution_count": 1,
   "id": "00912586-2bde-4fde-af9d-c355f64ca590",
   "metadata": {},
   "outputs": [],
   "source": [
    "# Transportation Problem"
   ]
  },
  {
   "cell_type": "code",
   "execution_count": 2,
   "id": "63629a47-8bed-4a69-ae05-19535529d707",
   "metadata": {},
   "outputs": [
    {
     "name": "stdout",
     "output_type": "stream",
     "text": [
      "Pyomo version: 6.9.1\n"
     ]
    }
   ],
   "source": [
    "import pyomo\n",
    "print(\"Pyomo version:\", pyomo.__version__)\n"
   ]
  },
  {
   "cell_type": "code",
   "execution_count": 1,
   "id": "5131d8c6-e89c-4f6a-bd07-30ec206905bf",
   "metadata": {},
   "outputs": [
    {
     "name": "stdout",
     "output_type": "stream",
     "text": [
      "GLPK available: True\n",
      "IPOPT available: True\n"
     ]
    }
   ],
   "source": [
    "from pyomo.environ import SolverFactory\n",
    "\n",
    "# Check if GLPK is available\n",
    "glpk_available = SolverFactory('glpk').available()\n",
    "print(\"GLPK available:\", glpk_available)\n",
    "\n",
    "# Check if IPOPT is available\n",
    "ipopt_available = SolverFactory('ipopt').available()\n",
    "print(\"IPOPT available:\", ipopt_available)\n"
   ]
  },
  {
   "cell_type": "code",
   "execution_count": 2,
   "id": "99269a6d-4f77-4135-9821-69fdfca72bb5",
   "metadata": {},
   "outputs": [
    {
     "name": "stdout",
     "output_type": "stream",
     "text": [
      "CPLEX available: True\n"
     ]
    }
   ],
   "source": [
    "from pyomo.environ import SolverFactory\n",
    "\n",
    "solver = SolverFactory('cplex')\n",
    "print(\"CPLEX available:\", solver.available())\n"
   ]
  },
  {
   "cell_type": "code",
   "execution_count": null,
   "id": "85544fba-d06e-4db7-b0ad-4d94e40f22e6",
   "metadata": {},
   "outputs": [],
   "source": []
  }
 ],
 "metadata": {
  "kernelspec": {
   "display_name": "Python 3 (ipykernel)",
   "language": "python",
   "name": "python3"
  },
  "language_info": {
   "codemirror_mode": {
    "name": "ipython",
    "version": 3
   },
   "file_extension": ".py",
   "mimetype": "text/x-python",
   "name": "python",
   "nbconvert_exporter": "python",
   "pygments_lexer": "ipython3",
   "version": "3.13.1"
  }
 },
 "nbformat": 4,
 "nbformat_minor": 5
}
