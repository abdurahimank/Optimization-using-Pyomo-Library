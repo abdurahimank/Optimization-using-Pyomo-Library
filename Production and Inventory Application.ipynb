{
 "cells": [
  {
   "cell_type": "markdown",
   "id": "427645f2-85c0-4cfa-a047-bae843479aec",
   "metadata": {},
   "source": [
    "# A Production and Inventory Application"
   ]
  },
  {
   "cell_type": "code",
   "execution_count": null,
   "id": "16df56e5-44d0-4bc4-aaa3-11d7e0cd6759",
   "metadata": {},
   "outputs": [],
   "source": []
  }
 ],
 "metadata": {
  "kernelspec": {
   "display_name": "Python 3 (ipykernel)",
   "language": "python",
   "name": "python3"
  },
  "language_info": {
   "codemirror_mode": {
    "name": "ipython",
    "version": 3
   },
   "file_extension": ".py",
   "mimetype": "text/x-python",
   "name": "python",
   "nbconvert_exporter": "python",
   "pygments_lexer": "ipython3",
   "version": "3.13.1"
  }
 },
 "nbformat": 4,
 "nbformat_minor": 5
}
